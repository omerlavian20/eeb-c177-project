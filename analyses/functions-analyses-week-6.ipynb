{
 "cells": [
  {
   "cell_type": "code",
   "execution_count": 93,
   "metadata": {},
   "outputs": [],
   "source": [
    "import numpy as np\n",
    "import matplotlib.pyplot as plt\n",
    "import pandas as pd\n",
    "import csv"
   ]
  },
  {
   "cell_type": "markdown",
   "metadata": {},
   "source": [
    "# Part 1"
   ]
  },
  {
   "cell_type": "code",
   "execution_count": 134,
   "metadata": {},
   "outputs": [
    {
     "name": "stdout",
     "output_type": "stream",
     "text": [
      "Mean FID:  FID (m)    1.93898\n",
      "dtype: float64\n",
      "Mean Distance Traveled:  FID (m)    1.93898\n",
      "dtype: float64\n"
     ]
    }
   ],
   "source": [
    "def statdoer(filename, colx, coly):\n",
    "    Var1 = pd.read_excel(filename, usecols=colx)\n",
    "    Var2 = pd.read_excel(filename, usecols=coly)\n",
    "\n",
    "    print('Mean FID: ', np.mean(Var1)) \n",
    "    print('Mean Distance Traveled: ', np.mean(Var2))"
   ]
  },
  {
   "cell_type": "code",
   "execution_count": 169,
   "metadata": {},
   "outputs": [],
   "source": [
    "def statdoer(filename, colx, coly):\n",
    "    Var1 = pd.read_excel(filename, usecols=colx)\n",
    "    Var2 = pd.read_excel(filename, usecols=coly)\n",
    "\n",
    "    print('Mean ', np.mean(Var1)) \n",
    "    print('Mean ', np.mean(Var2))\n",
    "    \n",
    "    print('Standard Deviation ', np.std(Var1))\n",
    "    print('Standard Deviation, ', np.std(Var2))\n",
    "    \n",
    "    print('Minimum ', np.min(Var1))\n",
    "    print('Minimum ', np.min(Var2))\n",
    "    \n",
    "    print('Maximum ', np.max(Var1))\n",
    "    print('Maximum ', np.max(Var2))\n",
    "    \n",
    "    data_plot = plt.plot(Var1,Var2)\n",
    "    plt.show\n",
    "    "
   ]
  },
  {
   "cell_type": "code",
   "execution_count": 170,
   "metadata": {},
   "outputs": [
    {
     "name": "stdout",
     "output_type": "stream",
     "text": [
      "Mean  FID (m)    1.93898\n",
      "dtype: float64\n",
      "Mean  DistanceTraveled    3.61859\n",
      "dtype: float64\n",
      "Standard Deviation  FID (m)    1.667444\n",
      "dtype: float64\n",
      "Standard Deviation,  DistanceTraveled    4.292533\n",
      "dtype: float64\n",
      "Minimum  FID (m)    0.0\n",
      "dtype: float64\n",
      "Minimum  DistanceTraveled    0.25\n",
      "dtype: float64\n",
      "Maximum  FID (m)    9.6\n",
      "dtype: float64\n",
      "Maximum  DistanceTraveled    20.0\n",
      "dtype: float64\n"
     ]
    },
    {
     "data": {
      "image/png": "[encoded data removed]",
      "text/plain": [
       "<Figure size 432x288 with 1 Axes>"
      ]
     },
     "metadata": {
      "needs_background": "light"
     },
     "output_type": "display_data"
    }
   ],
   "source": [
    "statdoer(\"FID_Data.xlsx\", \"K\", \"R\")"
   ]
  },
  {
   "cell_type": "markdown",
   "metadata": {},
   "source": [
    "# Part 2"
   ]
  },
  {
   "cell_type": "code",
   "execution_count": 171,
   "metadata": {},
   "outputs": [],
   "source": [
    "import csv"
   ]
  },
  {
   "cell_type": "code",
   "execution_count": 198,
   "metadata": {},
   "outputs": [
    {
     "name": "stdout",
     "output_type": "stream",
     "text": [
      "0.5 \n",
      "0.5 Flew\n",
      "1.25 Flew\n",
      "1.5 Hop\n",
      "0.75 Flew\n",
      "1.375 Hop\n",
      "1.125 Hop\n",
      "2.375 Flew\n",
      "1.5 Flew\n",
      "1.5 Hop\n",
      "2 Flew\n",
      "1 Flew\n",
      "1.5 Hop\n",
      "1.25 Flew\n",
      "1 Flew\n",
      "0.625 Flew\n",
      "2.5 Flew\n",
      "0.75 Hop\n",
      "1 Flew\n",
      "1.125 Flew\n",
      "1 Hop\n",
      "1.375 Hop\n",
      "0.875 Flew\n",
      "1.5 Flew\n",
      "2 Flew\n",
      "1.5 \n",
      "1 Flew\n",
      "0.5 \n",
      "0.5 Hop\n",
      "0.5 \n",
      "8 \n",
      "1.5 \n",
      "0.75 Hop\n",
      "9.6 Flew\n",
      "1.25 \n",
      "1 Flew\n",
      "1 Flew\n",
      "2 \n",
      "0.875 Flew\n",
      "1.5 Flew\n",
      "0.25 \n",
      "1.75 \n",
      "1 \n",
      "1 \n",
      "1 Flew\n",
      "1 \n",
      "0.625 Hop\n",
      "2 Flew\n",
      "2.5 Flew\n",
      "0.75 \n",
      "2 \n",
      "1.5 Hop\n",
      "0.75 Hop\n",
      "1.5 \n",
      "4.125 Flew\n",
      "2 \n",
      "1.5 \n",
      "2.5 \n",
      "2 \n",
      "1.5 \n",
      "0.5 \n",
      "0.5 Flew\n",
      "2 \n",
      "2.75 \n",
      "3 \n",
      "2.875 Flew\n",
      "1.25 Powell\n",
      "1.5 Flew\n",
      "2.25 \n",
      "3.5 \n",
      "1 \n",
      "0 \n",
      "0.75 Flew\n",
      "0.5 \n",
      "1.125 Flew\n",
      "2 \n",
      "4 \n",
      "1 Hop\n",
      "0.75 \n",
      "0.875 Hop\n",
      "3.5 Flew\n",
      "1.5 Hop\n",
      "1.25 Flew\n",
      "1.625 Hop\n",
      "3.75 Flew\n",
      "4.25 Flew\n",
      "2.875 Flew\n",
      "5 Flew\n",
      "2 Flew\n",
      "1.125 Flew\n",
      "1.5 Flew\n",
      "1.125 Flew\n",
      "1.625 Hop\n",
      "1 Hop\n",
      "1.5 Flew\n",
      "1.5 Flew\n",
      "3.125 \n",
      "0.5 \n",
      "2 Flew\n",
      "1.75 Flew\n",
      "3.5 Flew\n",
      "1.125 Flew\n",
      "1.375 Flew\n",
      "2 Flew\n",
      "1 Flew\n",
      "9.5 Flew\n",
      "1.5 \n",
      "0.375 \n",
      "4.5 \n",
      "4 \n",
      "0.5 \n",
      "3 \n",
      "1 \n",
      "2 \n",
      "1.5 \n",
      "1 \n",
      "2.25 \n",
      "0.5 \n",
      "4 \n",
      "6.5 \n",
      "1 \n",
      "0.75 \n",
      "0.5 \n",
      "1.75 \n",
      "2.75 \n",
      "2.75 \n",
      "2.5 \n",
      "1.5 \n",
      "0.5 \n",
      "1 \n",
      "1.5 \n",
      "1.25 \n",
      "0.75 \n",
      "1 \n",
      "3.25 \n",
      "0.5 \n",
      "4.5 \n",
      "2.5 \n",
      "7.75 \n",
      "3.5 \n",
      "4 \n",
      "5 \n",
      "1.25 Flew\n",
      "1 Hop\n",
      "1 Flew\n",
      "2.125 Flew\n",
      "5 Flew\n",
      "0.75 Hop\n",
      "2.5 Flew\n",
      "1.5 \n",
      "7.5 Flew\n",
      "1.25 Hop\n"
     ]
    }
   ],
   "source": [
    "#made a new excel file with subset of full data set to apply here\n",
    "with open(\"Adjusted_Data.csv\", newline='') as juncofile:\n",
    "    reader = csv.DictReader(juncofile)\n",
    "    for row in reader:\n",
    "        print(row['FID (m)'], row['Flew.hop'])\n",
    "\n",
    "   \n",
    "      \n",
    "        \n",
    "        "
   ]
  },
  {
   "cell_type": "code",
   "execution_count": 210,
   "metadata": {},
   "outputs": [
    {
     "name": "stdout",
     "output_type": "stream",
     "text": [
      "defaultdict(<class 'int'>, {'': 72, 'Flew': 57, 'Hop': 22, 'Powell': 1})\n"
     ]
    }
   ],
   "source": [
    "from collections import defaultdict\n",
    "Flewcounter = defaultdict(int)\n",
    "with open(\"Adjusted_Data.csv\", newline='') as juncofile:\n",
    "    reader = csv.DictReader(juncofile)\n",
    "    for row in reader:\n",
    "        Flewcounter[row['Flew.hop']] += 1\n",
    "print(Flewcounter)\n",
    "\n",
    "    "
   ]
  },
  {
   "cell_type": "code",
   "execution_count": 213,
   "metadata": {},
   "outputs": [
    {
     "name": "stdout",
     "output_type": "stream",
     "text": [
      "[OrderedDict([('FID (m)', '0.5'), ('Height', '0'), ('Euc FID', '0.5'), ('Conspecifics Present', '1'), ('Human Activity', '1'), ('Site', 'UCLA'), ('Flew.hop', 'Flew')]), OrderedDict([('FID (m)', '1.25'), ('Height', '0'), ('Euc FID', '1.25'), ('Conspecifics Present', '2'), ('Human Activity', ''), ('Site', 'UCLA'), ('Flew.hop', 'Flew')]), OrderedDict([('FID (m)', '0.75'), ('Height', '0.5'), ('Euc FID', '0.901387819'), ('Conspecifics Present', '3'), ('Human Activity', '1'), ('Site', 'UCLA'), ('Flew.hop', 'Flew')]), OrderedDict([('FID (m)', '2.375'), ('Height', '0'), ('Euc FID', '2.375'), ('Conspecifics Present', '0'), ('Human Activity', '0'), ('Site', 'Oxy'), ('Flew.hop', 'Flew')]), OrderedDict([('FID (m)', '1.5'), ('Height', '0'), ('Euc FID', '1.5'), ('Conspecifics Present', '2'), ('Human Activity', '0'), ('Site', 'Oxy'), ('Flew.hop', 'Flew')]), OrderedDict([('FID (m)', '2'), ('Height', '0'), ('Euc FID', '2'), ('Conspecifics Present', '1'), ('Human Activity', '0'), ('Site', 'UCLA'), ('Flew.hop', 'Flew')]), OrderedDict([('FID (m)', '1'), ('Height', '0'), ('Euc FID', '1'), ('Conspecifics Present', '2'), ('Human Activity', '0'), ('Site', 'UCSB'), ('Flew.hop', 'Flew')]), OrderedDict([('FID (m)', '1.25'), ('Height', '0'), ('Euc FID', '1.25'), ('Conspecifics Present', '1'), ('Human Activity', '1'), ('Site', 'UCSD'), ('Flew.hop', 'Flew')]), OrderedDict([('FID (m)', '1'), ('Height', '0.3'), ('Euc FID', '1.044030651'), ('Conspecifics Present', '1'), ('Human Activity', '1'), ('Site', 'UCSD'), ('Flew.hop', 'Flew')]), OrderedDict([('FID (m)', '0.625'), ('Height', '0'), ('Euc FID', '0.625'), ('Conspecifics Present', '2'), ('Human Activity', '3'), ('Site', 'UCSD'), ('Flew.hop', 'Flew')]), OrderedDict([('FID (m)', '2.5'), ('Height', '0'), ('Euc FID', '2.5'), ('Conspecifics Present', '0'), ('Human Activity', '0'), ('Site', 'UCLA'), ('Flew.hop', 'Flew')]), OrderedDict([('FID (m)', '1'), ('Height', '0'), ('Euc FID', '1'), ('Conspecifics Present', '3'), ('Human Activity', '0'), ('Site', 'UCSB'), ('Flew.hop', 'Flew')]), OrderedDict([('FID (m)', '1.125'), ('Height', '0'), ('Euc FID', '1.125'), ('Conspecifics Present', '1'), ('Human Activity', '0'), ('Site', 'UCSB'), ('Flew.hop', 'Flew')]), OrderedDict([('FID (m)', '0.875'), ('Height', '0'), ('Euc FID', '0.875'), ('Conspecifics Present', '1'), ('Human Activity', '2'), ('Site', 'UCLA'), ('Flew.hop', 'Flew')]), OrderedDict([('FID (m)', '1.5'), ('Height', '0'), ('Euc FID', '1.5'), ('Conspecifics Present', '1'), ('Human Activity', '0'), ('Site', 'UCLA'), ('Flew.hop', 'Flew')]), OrderedDict([('FID (m)', '2'), ('Height', '0'), ('Euc FID', '2'), ('Conspecifics Present', '0'), ('Human Activity', '1'), ('Site', 'UCLA'), ('Flew.hop', 'Flew')]), OrderedDict([('FID (m)', '1'), ('Height', '0'), ('Euc FID', '1'), ('Conspecifics Present', '1'), ('Human Activity', '1'), ('Site', 'UCLA'), ('Flew.hop', 'Flew')]), OrderedDict([('FID (m)', '9.6'), ('Height', '0'), ('Euc FID', '9.6'), ('Conspecifics Present', '0'), ('Human Activity', '0'), ('Site', 'James'), ('Flew.hop', 'Flew')]), OrderedDict([('FID (m)', '1'), ('Height', '0'), ('Euc FID', '1'), ('Conspecifics Present', '1'), ('Human Activity', '1'), ('Site', 'UCLA'), ('Flew.hop', 'Flew')]), OrderedDict([('FID (m)', '1'), ('Height', '0'), ('Euc FID', '1'), ('Conspecifics Present', '1'), ('Human Activity', '1'), ('Site', 'UCLA'), ('Flew.hop', 'Flew')]), OrderedDict([('FID (m)', '0.875'), ('Height', '0'), ('Euc FID', '0.875'), ('Conspecifics Present', '0'), ('Human Activity', '0'), ('Site', 'UCLA'), ('Flew.hop', 'Flew')]), OrderedDict([('FID (m)', '1.5'), ('Height', '0'), ('Euc FID', '1.5'), ('Conspecifics Present', '0'), ('Human Activity', '1'), ('Site', 'UCLA'), ('Flew.hop', 'Flew')]), OrderedDict([('FID (m)', '1'), ('Height', '0'), ('Euc FID', '1'), ('Conspecifics Present', '1'), ('Human Activity', '1'), ('Site', 'Oxy'), ('Flew.hop', 'Flew')]), OrderedDict([('FID (m)', '2'), ('Height', '0'), ('Euc FID', '2'), ('Conspecifics Present', '0'), ('Human Activity', '1'), ('Site', 'Oxy'), ('Flew.hop', 'Flew')]), OrderedDict([('FID (m)', '2.5'), ('Height', '0'), ('Euc FID', '2.5'), ('Conspecifics Present', '2'), ('Human Activity', '0'), ('Site', 'Oxy'), ('Flew.hop', 'Flew')]), OrderedDict([('FID (m)', '4.125'), ('Height', '0'), ('Euc FID', '4.125'), ('Conspecifics Present', '0'), ('Human Activity', '1'), ('Site', 'UCLA'), ('Flew.hop', 'Flew')]), OrderedDict([('FID (m)', '0.5'), ('Height', '0'), ('Euc FID', '0.5'), ('Conspecifics Present', '1'), ('Human Activity', '0'), ('Site', 'UCLA'), ('Flew.hop', 'Flew')]), OrderedDict([('FID (m)', '2.875'), ('Height', '0'), ('Euc FID', '2.875'), ('Conspecifics Present', '0'), ('Human Activity', '0'), ('Site', 'Oxy'), ('Flew.hop', 'Flew')]), OrderedDict([('FID (m)', '1.5'), ('Height', '0'), ('Euc FID', '1.5'), ('Conspecifics Present', '2'), ('Human Activity', '2'), ('Site', 'UCSD'), ('Flew.hop', 'Flew')]), OrderedDict([('FID (m)', '0.75'), ('Height', '0'), ('Euc FID', '0.75'), ('Conspecifics Present', '0'), ('Human Activity', '0'), ('Site', 'UCSD'), ('Flew.hop', 'Flew')]), OrderedDict([('FID (m)', '1.125'), ('Height', '0'), ('Euc FID', '1.125'), ('Conspecifics Present', '3'), ('Human Activity', '2'), ('Site', 'UCSD'), ('Flew.hop', 'Flew')]), OrderedDict([('FID (m)', '3.5'), ('Height', '0'), ('Euc FID', '3.5'), ('Conspecifics Present', '0'), ('Human Activity', '0'), ('Site', 'UCSD'), ('Flew.hop', 'Flew')]), OrderedDict([('FID (m)', '1.25'), ('Height', '0'), ('Euc FID', '1.25'), ('Conspecifics Present', '2'), ('Human Activity', '0'), ('Site', 'UCSD'), ('Flew.hop', 'Flew')]), OrderedDict([('FID (m)', '3.75'), ('Height', '0'), ('Euc FID', '3.75'), ('Conspecifics Present', '0'), ('Human Activity', '1'), ('Site', 'Angeles'), ('Flew.hop', 'Flew')]), OrderedDict([('FID (m)', '4.25'), ('Height', '0'), ('Euc FID', '4.25'), ('Conspecifics Present', '2'), ('Human Activity', '1'), ('Site', 'Angeles'), ('Flew.hop', 'Flew')]), OrderedDict([('FID (m)', '2.875'), ('Height', '0.25'), ('Euc FID', '2.885849095'), ('Conspecifics Present', '3'), ('Human Activity', '1'), ('Site', 'Angeles'), ('Flew.hop', 'Flew')]), OrderedDict([('FID (m)', '5'), ('Height', '0'), ('Euc FID', '5'), ('Conspecifics Present', '0'), ('Human Activity', '1'), ('Site', 'Angeles'), ('Flew.hop', 'Flew')]), OrderedDict([('FID (m)', '2'), ('Height', '0'), ('Euc FID', '2'), ('Conspecifics Present', '0'), ('Human Activity', '0'), ('Site', 'UCSB'), ('Flew.hop', 'Flew')]), OrderedDict([('FID (m)', '1.125'), ('Height', '0'), ('Euc FID', '1.125'), ('Conspecifics Present', '0'), ('Human Activity', '1'), ('Site', 'UCSD'), ('Flew.hop', 'Flew')]), OrderedDict([('FID (m)', '1.5'), ('Height', '0'), ('Euc FID', '1.5'), ('Conspecifics Present', '0'), ('Human Activity', '1'), ('Site', 'UCSB'), ('Flew.hop', 'Flew')]), OrderedDict([('FID (m)', '1.125'), ('Height', '0'), ('Euc FID', '1.125'), ('Conspecifics Present', '0'), ('Human Activity', '2'), ('Site', 'UCLA'), ('Flew.hop', 'Flew')]), OrderedDict([('FID (m)', '1.5'), ('Height', '0'), ('Euc FID', '1.5'), ('Conspecifics Present', '2'), ('Human Activity', '3'), ('Site', 'UCLA'), ('Flew.hop', 'Flew')]), OrderedDict([('FID (m)', '1.5'), ('Height', '0'), ('Euc FID', '1.5'), ('Conspecifics Present', '3'), ('Human Activity', '2'), ('Site', 'UCLA'), ('Flew.hop', 'Flew')]), OrderedDict([('FID (m)', '2'), ('Height', '0.1'), ('Euc FID', '2.002498439'), ('Conspecifics Present', '2'), ('Human Activity', '0'), ('Site', 'UCSB'), ('Flew.hop', 'Flew')]), OrderedDict([('FID (m)', '1.75'), ('Height', '0'), ('Euc FID', '1.75'), ('Conspecifics Present', '2'), ('Human Activity', '1'), ('Site', 'UCLA'), ('Flew.hop', 'Flew')]), OrderedDict([('FID (m)', '3.5'), ('Height', '0'), ('Euc FID', '3.5'), ('Conspecifics Present', '0'), ('Human Activity', '0'), ('Site', 'Stunt'), ('Flew.hop', 'Flew')]), OrderedDict([('FID (m)', '1.125'), ('Height', '0'), ('Euc FID', '1.125'), ('Conspecifics Present', '0'), ('Human Activity', '1'), ('Site', 'UCLA'), ('Flew.hop', 'Flew')]), OrderedDict([('FID (m)', '1.375'), ('Height', '0'), ('Euc FID', '1.375'), ('Conspecifics Present', '1'), ('Human Activity', '2'), ('Site', 'UCSD'), ('Flew.hop', 'Flew')]), OrderedDict([('FID (m)', '2'), ('Height', '0'), ('Euc FID', '2'), ('Conspecifics Present', '0'), ('Human Activity', '2'), ('Site', 'UCLA'), ('Flew.hop', 'Flew')]), OrderedDict([('FID (m)', '1'), ('Height', '0'), ('Euc FID', '1'), ('Conspecifics Present', '0'), ('Human Activity', '2'), ('Site', 'UCLA'), ('Flew.hop', 'Flew')]), OrderedDict([('FID (m)', '9.5'), ('Height', '0'), ('Euc FID', '9.5'), ('Conspecifics Present', '1'), ('Human Activity', '0'), ('Site', 'Stunt'), ('Flew.hop', 'Flew')]), OrderedDict([('FID (m)', '1.25'), ('Height', '0'), ('Euc FID', '1.25'), ('Conspecifics Present', '0'), ('Human Activity', '1'), ('Site', 'UCSB'), ('Flew.hop', 'Flew')]), OrderedDict([('FID (m)', '1'), ('Height', '0'), ('Euc FID', '1'), ('Conspecifics Present', '3'), ('Human Activity', '2'), ('Site', 'UCSD'), ('Flew.hop', 'Flew')]), OrderedDict([('FID (m)', '2.125'), ('Height', '0'), ('Euc FID', '2.125'), ('Conspecifics Present', '0'), ('Human Activity', '3'), ('Site', 'UCLA'), ('Flew.hop', 'Flew')]), OrderedDict([('FID (m)', '5'), ('Height', '0'), ('Euc FID', '5'), ('Conspecifics Present', '0'), ('Human Activity', '0'), ('Site', 'Stunt'), ('Flew.hop', 'Flew')]), OrderedDict([('FID (m)', '2.5'), ('Height', '0'), ('Euc FID', '2.5'), ('Conspecifics Present', '2'), ('Human Activity', '0'), ('Site', 'UCSD'), ('Flew.hop', 'Flew')]), OrderedDict([('FID (m)', '7.5'), ('Height', '0'), ('Euc FID', '7.5'), ('Conspecifics Present', '0'), ('Human Activity', '0'), ('Site', 'Stunt'), ('Flew.hop', 'Flew')])]\n"
     ]
    }
   ],
   "source": [
    "Flyerlist = []\n",
    "Hopperlist = []\n",
    "with open(\"Adjusted_Data.csv\", newline='') as juncofile:\n",
    "    reader = csv.DictReader(juncofile)\n",
    "    for row in reader:\n",
    "        if row['Flew.hop']=='Flew':\n",
    "            Flyerlist.append(row)\n",
    "        else:\n",
    "            Hopperlist.append(row)\n",
    "print(Flyerlist)\n",
    "\n",
    "            \n",
    "            \n"
   ]
  },
  {
   "cell_type": "code",
   "execution_count": 214,
   "metadata": {},
   "outputs": [
    {
     "name": "stdout",
     "output_type": "stream",
     "text": [
      "[OrderedDict([('FID (m)', '0.5'), ('Height', '2'), ('Euc FID', '2.061552813'), ('Conspecifics Present', '1'), ('Human Activity', '0'), ('Site', 'James'), ('Flew.hop', '')]), OrderedDict([('FID (m)', '1.5'), ('Height', '0'), ('Euc FID', '1.5'), ('Conspecifics Present', '1'), ('Human Activity', '3'), ('Site', 'UCLA'), ('Flew.hop', 'Hop')]), OrderedDict([('FID (m)', '1.375'), ('Height', '0'), ('Euc FID', '1.375'), ('Conspecifics Present', '1'), ('Human Activity', '1'), ('Site', 'UCLA'), ('Flew.hop', 'Hop')]), OrderedDict([('FID (m)', '1.125'), ('Height', '0'), ('Euc FID', '1.125'), ('Conspecifics Present', '1'), ('Human Activity', '1'), ('Site', 'UCLA'), ('Flew.hop', 'Hop')]), OrderedDict([('FID (m)', '1.5'), ('Height', '0'), ('Euc FID', '1.5'), ('Conspecifics Present', '1'), ('Human Activity', '3'), ('Site', 'UCLA'), ('Flew.hop', 'Hop')]), OrderedDict([('FID (m)', '1.5'), ('Height', '0'), ('Euc FID', '1.5'), ('Conspecifics Present', '1'), ('Human Activity', '0'), ('Site', 'UCSB'), ('Flew.hop', 'Hop')]), OrderedDict([('FID (m)', '0.75'), ('Height', '0'), ('Euc FID', '0.75'), ('Conspecifics Present', '3'), ('Human Activity', ''), ('Site', 'UCSB'), ('Flew.hop', 'Hop')]), OrderedDict([('FID (m)', '1'), ('Height', '0'), ('Euc FID', '1'), ('Conspecifics Present', '3'), ('Human Activity', '0'), ('Site', 'UCSB'), ('Flew.hop', 'Hop')]), OrderedDict([('FID (m)', '1.375'), ('Height', '0'), ('Euc FID', '1.375'), ('Conspecifics Present', '0'), ('Human Activity', '1'), ('Site', 'UCSB'), ('Flew.hop', 'Hop')]), OrderedDict([('FID (m)', '1.5'), ('Height', '0'), ('Euc FID', '1.5'), ('Conspecifics Present', '0'), ('Human Activity', '1'), ('Site', 'UCLA'), ('Flew.hop', '')]), OrderedDict([('FID (m)', '0.5'), ('Height', '0'), ('Euc FID', '0.5'), ('Conspecifics Present', '0'), ('Human Activity', '1'), ('Site', 'UCLA'), ('Flew.hop', '')]), OrderedDict([('FID (m)', '0.5'), ('Height', '0'), ('Euc FID', '0.5'), ('Conspecifics Present', '1'), ('Human Activity', ''), ('Site', 'UCLA'), ('Flew.hop', 'Hop')]), OrderedDict([('FID (m)', '0.5'), ('Height', '0'), ('Euc FID', '0.5'), ('Conspecifics Present', ''), ('Human Activity', ''), ('Site', 'UCLA'), ('Flew.hop', '')]), OrderedDict([('FID (m)', '8'), ('Height', '0'), ('Euc FID', '8'), ('Conspecifics Present', '0'), ('Human Activity', '3'), ('Site', 'UCLA'), ('Flew.hop', '')]), OrderedDict([('FID (m)', '1.5'), ('Height', '0'), ('Euc FID', '1.5'), ('Conspecifics Present', ''), ('Human Activity', ''), ('Site', 'UCLA'), ('Flew.hop', '')]), OrderedDict([('FID (m)', '0.75'), ('Height', '0'), ('Euc FID', '0.75'), ('Conspecifics Present', '2'), ('Human Activity', '1'), ('Site', 'UCLA'), ('Flew.hop', 'Hop')]), OrderedDict([('FID (m)', '1.25'), ('Height', '0'), ('Euc FID', '1.25'), ('Conspecifics Present', '0'), ('Human Activity', '1'), ('Site', 'UCLA'), ('Flew.hop', '')]), OrderedDict([('FID (m)', '2'), ('Height', '0.3'), ('Euc FID', '2.022374842'), ('Conspecifics Present', '1'), ('Human Activity', ''), ('Site', 'UCLA'), ('Flew.hop', '')]), OrderedDict([('FID (m)', '0.25'), ('Height', '0'), ('Euc FID', '0.25'), ('Conspecifics Present', '0'), ('Human Activity', '1'), ('Site', 'Oxy'), ('Flew.hop', '')]), OrderedDict([('FID (m)', '1.75'), ('Height', '0'), ('Euc FID', '1.75'), ('Conspecifics Present', ''), ('Human Activity', ''), ('Site', 'Oxy'), ('Flew.hop', '')]), OrderedDict([('FID (m)', '1'), ('Height', '0'), ('Euc FID', '1'), ('Conspecifics Present', '2'), ('Human Activity', '0'), ('Site', 'Oxy'), ('Flew.hop', '')]), OrderedDict([('FID (m)', '1'), ('Height', '0'), ('Euc FID', '1'), ('Conspecifics Present', '0'), ('Human Activity', '1'), ('Site', 'Oxy'), ('Flew.hop', '')]), OrderedDict([('FID (m)', '1'), ('Height', '0'), ('Euc FID', '1'), ('Conspecifics Present', '0'), ('Human Activity', '1'), ('Site', 'UCLA'), ('Flew.hop', '')]), OrderedDict([('FID (m)', '0.625'), ('Height', '0'), ('Euc FID', '0.625'), ('Conspecifics Present', '0'), ('Human Activity', '1'), ('Site', 'UCLA'), ('Flew.hop', 'Hop')]), OrderedDict([('FID (m)', '0.75'), ('Height', '0'), ('Euc FID', '0.75'), ('Conspecifics Present', '1'), ('Human Activity', '1'), ('Site', 'UCLA'), ('Flew.hop', '')]), OrderedDict([('FID (m)', '2'), ('Height', '0'), ('Euc FID', '2'), ('Conspecifics Present', '0'), ('Human Activity', '1'), ('Site', 'UCLA'), ('Flew.hop', '')]), OrderedDict([('FID (m)', '1.5'), ('Height', '0'), ('Euc FID', '1.5'), ('Conspecifics Present', '2'), ('Human Activity', '2'), ('Site', 'UCLA'), ('Flew.hop', 'Hop')]), OrderedDict([('FID (m)', '0.75'), ('Height', '0'), ('Euc FID', '0.75'), ('Conspecifics Present', '4'), ('Human Activity', '1'), ('Site', 'UCLA'), ('Flew.hop', 'Hop')]), OrderedDict([('FID (m)', '1.5'), ('Height', '0'), ('Euc FID', '1.5'), ('Conspecifics Present', '0'), ('Human Activity', '1'), ('Site', 'Oxy'), ('Flew.hop', '')]), OrderedDict([('FID (m)', '2'), ('Height', '0'), ('Euc FID', '2'), ('Conspecifics Present', '0'), ('Human Activity', '1'), ('Site', 'UCLA'), ('Flew.hop', '')]), OrderedDict([('FID (m)', '1.5'), ('Height', '0'), ('Euc FID', '1.5'), ('Conspecifics Present', ''), ('Human Activity', '1'), ('Site', 'Oxy'), ('Flew.hop', '')]), OrderedDict([('FID (m)', '2.5'), ('Height', '0'), ('Euc FID', '2.5'), ('Conspecifics Present', '0'), ('Human Activity', ''), ('Site', 'Oxy'), ('Flew.hop', '')]), OrderedDict([('FID (m)', '2'), ('Height', '0'), ('Euc FID', '2'), ('Conspecifics Present', ''), ('Human Activity', ''), ('Site', 'Oxy'), ('Flew.hop', '')]), OrderedDict([('FID (m)', '1.5'), ('Height', '0'), ('Euc FID', '1.5'), ('Conspecifics Present', '1'), ('Human Activity', '1'), ('Site', 'UCSD'), ('Flew.hop', '')]), OrderedDict([('FID (m)', '0.5'), ('Height', '0'), ('Euc FID', '0.5'), ('Conspecifics Present', '0'), ('Human Activity', '0'), ('Site', 'Oxy'), ('Flew.hop', '')]), OrderedDict([('FID (m)', '2'), ('Height', '0'), ('Euc FID', '2'), ('Conspecifics Present', ''), ('Human Activity', ''), ('Site', 'Oxy'), ('Flew.hop', '')]), OrderedDict([('FID (m)', '2.75'), ('Height', '0'), ('Euc FID', '2.75'), ('Conspecifics Present', '2'), ('Human Activity', '1'), ('Site', 'Oxy'), ('Flew.hop', '')]), OrderedDict([('FID (m)', '3'), ('Height', '0'), ('Euc FID', '3'), ('Conspecifics Present', '1'), ('Human Activity', '1'), ('Site', 'Oxy'), ('Flew.hop', '')]), OrderedDict([('FID (m)', '1.25'), ('Height', '0'), ('Euc FID', '1.25'), ('Conspecifics Present', '1'), ('Human Activity', '1'), ('Site', 'UCSD'), ('Flew.hop', 'Powell')]), OrderedDict([('FID (m)', '2.25'), ('Height', '0'), ('Euc FID', '2.25'), ('Conspecifics Present', ''), ('Human Activity', ''), ('Site', 'Oxy'), ('Flew.hop', '')]), OrderedDict([('FID (m)', '3.5'), ('Height', '0'), ('Euc FID', '3.5'), ('Conspecifics Present', '3'), ('Human Activity', ''), ('Site', 'Oxy'), ('Flew.hop', '')]), OrderedDict([('FID (m)', '1'), ('Height', '0'), ('Euc FID', '1'), ('Conspecifics Present', ''), ('Human Activity', ''), ('Site', 'UCLA'), ('Flew.hop', '')]), OrderedDict([('FID (m)', '0'), ('Height', '0'), ('Euc FID', '0'), ('Conspecifics Present', ''), ('Human Activity', ''), ('Site', 'UCLA'), ('Flew.hop', '')]), OrderedDict([('FID (m)', '0.5'), ('Height', '0'), ('Euc FID', '0.5'), ('Conspecifics Present', '1'), ('Human Activity', '1'), ('Site', 'UCSD'), ('Flew.hop', '')]), OrderedDict([('FID (m)', '2'), ('Height', '0'), ('Euc FID', '2'), ('Conspecifics Present', ''), ('Human Activity', ''), ('Site', 'UCLA'), ('Flew.hop', '')]), OrderedDict([('FID (m)', '4'), ('Height', '0'), ('Euc FID', '4'), ('Conspecifics Present', '3'), ('Human Activity', '1'), ('Site', 'UCLA'), ('Flew.hop', '')]), OrderedDict([('FID (m)', '1'), ('Height', '0.5'), ('Euc FID', '1.118033989'), ('Conspecifics Present', '0'), ('Human Activity', '0'), ('Site', 'UCLA'), ('Flew.hop', 'Hop')]), OrderedDict([('FID (m)', '0.75'), ('Height', '0'), ('Euc FID', '0.75'), ('Conspecifics Present', '1'), ('Human Activity', ''), ('Site', 'UCLA'), ('Flew.hop', '')]), OrderedDict([('FID (m)', '0.875'), ('Height', '0'), ('Euc FID', '0.875'), ('Conspecifics Present', '1'), ('Human Activity', '0'), ('Site', 'UCSB'), ('Flew.hop', 'Hop')]), OrderedDict([('FID (m)', '1.5'), ('Height', '0.5'), ('Euc FID', '1.58113883'), ('Conspecifics Present', '1'), ('Human Activity', '1'), ('Site', 'UCSD'), ('Flew.hop', 'Hop')]), OrderedDict([('FID (m)', '1.625'), ('Height', '0'), ('Euc FID', '1.625'), ('Conspecifics Present', '1'), ('Human Activity', '3'), ('Site', 'UCSD'), ('Flew.hop', 'Hop')]), OrderedDict([('FID (m)', '1.625'), ('Height', '0'), ('Euc FID', '1.625'), ('Conspecifics Present', '1'), ('Human Activity', '1'), ('Site', 'UCLA'), ('Flew.hop', 'Hop')]), OrderedDict([('FID (m)', '1'), ('Height', '0'), ('Euc FID', '1'), ('Conspecifics Present', '0'), ('Human Activity', '1'), ('Site', 'UCLA'), ('Flew.hop', 'Hop')]), OrderedDict([('FID (m)', '3.125'), ('Height', '0'), ('Euc FID', '3.125'), ('Conspecifics Present', '1'), ('Human Activity', '1'), ('Site', 'Angeles'), ('Flew.hop', '')]), OrderedDict([('FID (m)', '0.5'), ('Height', '0'), ('Euc FID', '0.5'), ('Conspecifics Present', '1'), ('Human Activity', '1'), ('Site', 'UCLA'), ('Flew.hop', '')]), OrderedDict([('FID (m)', '1.5'), ('Height', '0'), ('Euc FID', '1.5'), ('Conspecifics Present', ''), ('Human Activity', ''), ('Site', 'Oxy'), ('Flew.hop', '')]), OrderedDict([('FID (m)', '0.375'), ('Height', '0'), ('Euc FID', '0.375'), ('Conspecifics Present', ''), ('Human Activity', ''), ('Site', 'UCLA'), ('Flew.hop', '')]), OrderedDict([('FID (m)', '4.5'), ('Height', '0'), ('Euc FID', '4.5'), ('Conspecifics Present', '0'), ('Human Activity', '1'), ('Site', 'Angeles'), ('Flew.hop', '')]), OrderedDict([('FID (m)', '4'), ('Height', '1.3716'), ('Euc FID', '4.22862703'), ('Conspecifics Present', ''), ('Human Activity', ''), ('Site', 'UCLA'), ('Flew.hop', '')]), OrderedDict([('FID (m)', '0.5'), ('Height', '0'), ('Euc FID', '0.5'), ('Conspecifics Present', ''), ('Human Activity', ''), ('Site', 'UCSD'), ('Flew.hop', '')]), OrderedDict([('FID (m)', '3'), ('Height', '0'), ('Euc FID', '3'), ('Conspecifics Present', '3'), ('Human Activity', '0'), ('Site', 'Oxy'), ('Flew.hop', '')]), OrderedDict([('FID (m)', '1'), ('Height', '0'), ('Euc FID', '1'), ('Conspecifics Present', '1'), ('Human Activity', ''), ('Site', 'UCLA'), ('Flew.hop', '')]), OrderedDict([('FID (m)', '2'), ('Height', '0'), ('Euc FID', '2'), ('Conspecifics Present', '1'), ('Human Activity', '1'), ('Site', 'UCSD'), ('Flew.hop', '')]), OrderedDict([('FID (m)', '1.5'), ('Height', '0'), ('Euc FID', '1.5'), ('Conspecifics Present', '1'), ('Human Activity', '1'), ('Site', 'UCSD'), ('Flew.hop', '')]), OrderedDict([('FID (m)', '1'), ('Height', '0'), ('Euc FID', '1'), ('Conspecifics Present', '1'), ('Human Activity', '1'), ('Site', 'UCSD'), ('Flew.hop', '')]), OrderedDict([('FID (m)', '2.25'), ('Height', '0'), ('Euc FID', '2.25'), ('Conspecifics Present', '1'), ('Human Activity', '1'), ('Site', 'UCSD'), ('Flew.hop', '')]), OrderedDict([('FID (m)', '0.5'), ('Height', '0'), ('Euc FID', '0.5'), ('Conspecifics Present', '1'), ('Human Activity', '1'), ('Site', 'UCSD'), ('Flew.hop', '')]), OrderedDict([('FID (m)', '4'), ('Height', '0'), ('Euc FID', '4'), ('Conspecifics Present', '1'), ('Human Activity', '1'), ('Site', 'Angeles'), ('Flew.hop', '')]), OrderedDict([('FID (m)', '6.5'), ('Height', '0'), ('Euc FID', '6.5'), ('Conspecifics Present', '1'), ('Human Activity', '1'), ('Site', 'Angeles'), ('Flew.hop', '')]), OrderedDict([('FID (m)', '1'), ('Height', '0'), ('Euc FID', '1'), ('Conspecifics Present', '1'), ('Human Activity', '1'), ('Site', 'UCSD'), ('Flew.hop', '')]), OrderedDict([('FID (m)', '0.75'), ('Height', '0'), ('Euc FID', '0.75'), ('Conspecifics Present', '1'), ('Human Activity', '1'), ('Site', 'UCSD'), ('Flew.hop', '')]), OrderedDict([('FID (m)', '0.5'), ('Height', '0'), ('Euc FID', '0.5'), ('Conspecifics Present', '1'), ('Human Activity', '1'), ('Site', 'UCSD'), ('Flew.hop', '')]), OrderedDict([('FID (m)', '1.75'), ('Height', '0'), ('Euc FID', '1.75'), ('Conspecifics Present', '0'), ('Human Activity', '1'), ('Site', 'UCSD'), ('Flew.hop', '')]), OrderedDict([('FID (m)', '2.75'), ('Height', '0'), ('Euc FID', '2.75'), ('Conspecifics Present', '0'), ('Human Activity', '1'), ('Site', 'Angeles'), ('Flew.hop', '')]), OrderedDict([('FID (m)', '2.75'), ('Height', '0'), ('Euc FID', '2.75'), ('Conspecifics Present', '0'), ('Human Activity', '1'), ('Site', 'Angeles'), ('Flew.hop', '')]), OrderedDict([('FID (m)', '2.5'), ('Height', '0'), ('Euc FID', '2.5'), ('Conspecifics Present', '0'), ('Human Activity', '0'), ('Site', 'Oxy'), ('Flew.hop', '')]), OrderedDict([('FID (m)', '1.5'), ('Height', '0'), ('Euc FID', '1.5'), ('Conspecifics Present', '1'), ('Human Activity', '0'), ('Site', 'UCLA'), ('Flew.hop', '')]), OrderedDict([('FID (m)', '0.5'), ('Height', '0'), ('Euc FID', '0.5'), ('Conspecifics Present', '1'), ('Human Activity', '1'), ('Site', 'UCSD'), ('Flew.hop', '')]), OrderedDict([('FID (m)', '1'), ('Height', '0'), ('Euc FID', '1'), ('Conspecifics Present', '1'), ('Human Activity', '1'), ('Site', 'UCSD'), ('Flew.hop', '')]), OrderedDict([('FID (m)', '1.5'), ('Height', '0'), ('Euc FID', '1.5'), ('Conspecifics Present', '1'), ('Human Activity', '1'), ('Site', 'UCSD'), ('Flew.hop', '')]), OrderedDict([('FID (m)', '1.25'), ('Height', '0'), ('Euc FID', '1.25'), ('Conspecifics Present', '1'), ('Human Activity', '1'), ('Site', 'UCSD'), ('Flew.hop', '')]), OrderedDict([('FID (m)', '0.75'), ('Height', '0'), ('Euc FID', '0.75'), ('Conspecifics Present', '0'), ('Human Activity', '1'), ('Site', 'Angeles'), ('Flew.hop', '')]), OrderedDict([('FID (m)', '1'), ('Height', '0'), ('Euc FID', '1'), ('Conspecifics Present', '1'), ('Human Activity', '0'), ('Site', 'UCLA'), ('Flew.hop', '')]), OrderedDict([('FID (m)', '3.25'), ('Height', '0'), ('Euc FID', '3.25'), ('Conspecifics Present', '2'), ('Human Activity', '1'), ('Site', 'Angeles'), ('Flew.hop', '')]), OrderedDict([('FID (m)', '0.5'), ('Height', '0.5'), ('Euc FID', '0.707106781'), ('Conspecifics Present', '0'), ('Human Activity', '1'), ('Site', 'Angeles'), ('Flew.hop', '')]), OrderedDict([('FID (m)', '4.5'), ('Height', '0'), ('Euc FID', '4.5'), ('Conspecifics Present', '1'), ('Human Activity', '1'), ('Site', 'Angeles'), ('Flew.hop', '')]), OrderedDict([('FID (m)', '2.5'), ('Height', '0.5'), ('Euc FID', '2.549509757'), ('Conspecifics Present', '1'), ('Human Activity', '1'), ('Site', 'Angeles'), ('Flew.hop', '')]), OrderedDict([('FID (m)', '7.75'), ('Height', '0'), ('Euc FID', '7.75'), ('Conspecifics Present', '1'), ('Human Activity', '0'), ('Site', 'James'), ('Flew.hop', '')]), OrderedDict([('FID (m)', '3.5'), ('Height', '0'), ('Euc FID', '3.5'), ('Conspecifics Present', '0'), ('Human Activity', '0'), ('Site', 'James'), ('Flew.hop', '')]), OrderedDict([('FID (m)', '4'), ('Height', '0'), ('Euc FID', '4'), ('Conspecifics Present', '0'), ('Human Activity', '0'), ('Site', 'James'), ('Flew.hop', '')]), OrderedDict([('FID (m)', '5'), ('Height', '0'), ('Euc FID', '5'), ('Conspecifics Present', '1'), ('Human Activity', '0'), ('Site', 'James'), ('Flew.hop', '')]), OrderedDict([('FID (m)', '1'), ('Height', '0'), ('Euc FID', '1'), ('Conspecifics Present', '1'), ('Human Activity', '0'), ('Site', 'UCSB'), ('Flew.hop', 'Hop')]), OrderedDict([('FID (m)', '0.75'), ('Height', '0'), ('Euc FID', '0.75'), ('Conspecifics Present', '0'), ('Human Activity', '0'), ('Site', 'Oxy'), ('Flew.hop', 'Hop')]), OrderedDict([('FID (m)', '1.5'), ('Height', '0'), ('Euc FID', '1.5'), ('Conspecifics Present', ''), ('Human Activity', ''), ('Site', 'Angeles'), ('Flew.hop', '')]), OrderedDict([('FID (m)', '1.25'), ('Height', '0'), ('Euc FID', '1.25'), ('Conspecifics Present', ''), ('Human Activity', '1'), ('Site', 'UCLA'), ('Flew.hop', 'Hop')])]\n"
     ]
    }
   ],
   "source": [
    "print(Hopperlist)"
   ]
  },
  {
   "cell_type": "markdown",
   "metadata": {},
   "source": [
    "# Part 3"
   ]
  },
  {
   "cell_type": "code",
   "execution_count": 217,
   "metadata": {},
   "outputs": [
    {
     "ename": "TypeError",
     "evalue": "write() takes exactly one argument (2 given)",
     "output_type": "error",
     "traceback": [
      "\u001b[0;31m---------------------------------------------------------------------------\u001b[0m",
      "\u001b[0;31mTypeError\u001b[0m                                 Traceback (most recent call last)",
      "\u001b[0;32m<ipython-input-217-e410eb8f26ad>\u001b[0m in \u001b[0;36m<module>\u001b[0;34m\u001b[0m\n\u001b[1;32m      3\u001b[0m     \u001b[0mreader\u001b[0m \u001b[0;34m=\u001b[0m \u001b[0mcsv\u001b[0m\u001b[0;34m.\u001b[0m\u001b[0mDictReader\u001b[0m\u001b[0;34m(\u001b[0m\u001b[0mjuncofile\u001b[0m\u001b[0;34m)\u001b[0m\u001b[0;34m\u001b[0m\u001b[0;34m\u001b[0m\u001b[0m\n\u001b[1;32m      4\u001b[0m     \u001b[0;32mfor\u001b[0m \u001b[0mrow\u001b[0m \u001b[0;32min\u001b[0m \u001b[0mreader\u001b[0m\u001b[0;34m:\u001b[0m\u001b[0;34m\u001b[0m\u001b[0;34m\u001b[0m\u001b[0m\n\u001b[0;32m----> 5\u001b[0;31m         \u001b[0mf\u001b[0m\u001b[0;34m.\u001b[0m\u001b[0mwrite\u001b[0m\u001b[0;34m(\u001b[0m\u001b[0;34m'This junco made a '\u001b[0m\u001b[0;34m,\u001b[0m \u001b[0mrow\u001b[0m\u001b[0;34m[\u001b[0m\u001b[0;34m'Flew.hop'\u001b[0m\u001b[0;34m]\u001b[0m\u001b[0;34m)\u001b[0m\u001b[0;34m\u001b[0m\u001b[0;34m\u001b[0m\u001b[0m\n\u001b[0m\u001b[1;32m      6\u001b[0m \u001b[0;34m\u001b[0m\u001b[0m\n\u001b[1;32m      7\u001b[0m \u001b[0mf\u001b[0m\u001b[0;34m.\u001b[0m\u001b[0mclose\u001b[0m\u001b[0;34m(\u001b[0m\u001b[0;34m)\u001b[0m\u001b[0;34m\u001b[0m\u001b[0;34m\u001b[0m\u001b[0m\n",
      "\u001b[0;31mTypeError\u001b[0m: write() takes exactly one argument (2 given)"
     ]
    }
   ],
   "source": [
    "f = open('FlyingMovementType.txt')\n",
    "g = open('HoppingMovementType.txt')\n",
    "with open(\"Adjusted_Data.csv\", newline='') as juncofile:\n",
    "    reader = csv.DictReader(juncofile)\n",
    "    for row in reader:\n",
    "        f.write(row)\n",
    "    \n",
    "f.close()"
   ]
  },
  {
   "cell_type": "code",
   "execution_count": null,
   "metadata": {},
   "outputs": [],
   "source": []
  }
 ],
 "metadata": {
  "kernelspec": {
   "display_name": "Python 3",
   "language": "python",
   "name": "python3"
  },
  "language_info": {
   "codemirror_mode": {
    "name": "ipython",
    "version": 3
   },
   "file_extension": ".py",
   "mimetype": "text/x-python",
   "name": "python",
   "nbconvert_exporter": "python",
   "pygments_lexer": "ipython3",
   "version": "3.7.5"
  }
 },
 "nbformat": 4,
 "nbformat_minor": 2
}
