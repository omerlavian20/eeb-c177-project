{
 "cells": [
  {
   "cell_type": "code",
   "execution_count": 49,
   "metadata": {},
   "outputs": [],
   "source": [
    "import pandas as pd\n",
    "import csv\n",
    "import re"
   ]
  },
  {
   "cell_type": "code",
   "execution_count": 85,
   "metadata": {},
   "outputs": [],
   "source": [
    "def dummy_coder_excel():\n",
    "    #(inputfile, variable, cat1, cat2, outputfile)\n",
    "    '''\n",
    "    Converts categorical variables with two categories into dichotomous variables and stores the output in a separate text file. This allows categorical variables to be used in a multiple linear regression.\n",
    "    \"category1\" is stored as a 0, while \"category2\" is stored as a 1.\n",
    "    \n",
    "    This is a draft function. It will be modified to be more generalizable.\n",
    "    \n",
    "    '''\n",
    "    #read in file as a dictionary\n",
    "    #use regex to make function robust against typos; if wrote hop or fly in past of present tense or in upper or lowecase, then fxn should still work\n",
    "    #no typos appear in this case, but future variability in data entry will have less of an effect on the function due to this use of regex \n",
    "    Dataframe = pd.read_excel(\"FID_Data.xlsx\")\n",
    "    dummied_list = []\n",
    "    #iterate through items in category and \n",
    "    for item in Dataframe[\"Flew.hop\"]:\n",
    "        matchtest1 = re.match(\"[Ff]*\", str(item))\n",
    "        matchtest2 = re.match(\"[Hh]*\", str(item))\n",
    "        if bool(matchtest1) == True:\n",
    "            dummied_list.append(0)\n",
    "        if bool(matchtest2) == True:\n",
    "            dummied_list.append(1)\n",
    "        else:\n",
    "            continue\n",
    "    #move codes to separate file for future use\n",
    "    with open(\"FlewHop_Dummied.txt\", \"w+\") as output:\n",
    "        for item in dummied_list:\n",
    "            output.write(str(item) + \"\\n\")\n",
    "            \n",
    "\n",
    "            \n",
    "                \n"
   ]
  },
  {
   "cell_type": "code",
   "execution_count": 86,
   "metadata": {},
   "outputs": [],
   "source": [
    "?dummy_coder_excel"
   ]
  },
  {
   "cell_type": "code",
   "execution_count": 70,
   "metadata": {},
   "outputs": [],
   "source": [
    "?re.match"
   ]
  },
  {
   "cell_type": "code",
   "execution_count": null,
   "metadata": {},
   "outputs": [],
   "source": []
  }
 ],
 "metadata": {
  "kernelspec": {
   "display_name": "Python 3",
   "language": "python",
   "name": "python3"
  },
  "language_info": {
   "codemirror_mode": {
    "name": "ipython",
    "version": 3
   },
   "file_extension": ".py",
   "mimetype": "text/x-python",
   "name": "python",
   "nbconvert_exporter": "python",
   "pygments_lexer": "ipython3",
   "version": "3.7.5"
  }
 },
 "nbformat": 4,
 "nbformat_minor": 2
}
